{
  "cells": [
    {
      "cell_type": "markdown",
      "id": "33624715",
      "metadata": {
        "id": "33624715"
      },
      "source": [
        "# Praktikum 3: Manipulasi Data Tabular dengan Pandas\n",
        "\n",
        "<a href=\"https://colab.research.google.com/github/pakizhan-ump/ml-umpontianak/blob/main/Modules/Week-02/Praktikum-02/Praktikum_3_pandas.ipynb\" target=\"_parent\"><img src=\"https://colab.research.google.com/assets/colab-badge.svg\" alt=\"Open In Colab\"/></a>\n",
        "\n",
        "## 🎯 Tujuan Praktikum\n",
        "Mahasiswa mampu menggunakan library **Pandas** untuk memuat, membersihkan, memanipulasi, dan menganalisis data dalam bentuk tabel (DataFrame).\n",
        "\n",
        "## 📖 Dasar Teori\n",
        "**Pandas** adalah library yang dibangun di atas NumPy, dirancang khusus untuk analisis dan manipulasi data terstruktur atau tabular. Dua struktur data utamanya adalah:\n",
        "* **Series:** Sebuah array satu dimensi yang memiliki label (indeks). Ini bisa dianggap sebagai satu kolom dalam sebuah tabel.\n",
        "* **DataFrame:** Struktur data dua dimensi seperti tabel pada spreadsheet atau database SQL. DataFrame terdiri dari baris dan kolom, di mana setiap kolomnya adalah sebuah Pandas Series.\n",
        "\n",
        "Pandas sangat esensial untuk tahap *data cleaning*, *preprocessing*, dan *exploratory data analysis (EDA)* dalam alur kerja machine learning. Ia menyediakan fungsi-fungsi tingkat tinggi untuk membaca file (CSV, Excel), menangani data yang hilang (*missing values*), melakukan pengelompokan (*grouping*), dan seleksi data yang kompleks dengan mudah.\n"
      ]
    },
    {
      "cell_type": "markdown",
      "id": "8e0eba88",
      "metadata": {
        "id": "8e0eba88"
      },
      "source": [
        "# 🔧 OPERASI FUNDAMENTAL PANDAS"
      ]
    },
    {
      "cell_type": "code",
      "execution_count": 23,
      "id": "d5da1e05",
      "metadata": {
        "id": "d5da1e05"
      },
      "outputs": [],
      "source": [
        "import pandas as pd\n",
        "import numpy as np"
      ]
    },
    {
      "cell_type": "markdown",
      "id": "9fd1ba99",
      "metadata": {
        "id": "9fd1ba99"
      },
      "source": [
        "# 1. DATAFRAME CREATION"
      ]
    },
    {
      "cell_type": "code",
      "execution_count": 24,
      "id": "56ca9162",
      "metadata": {
        "id": "56ca9162",
        "outputId": "cdd240f8-280d-4f85-c5ec-81b2ed5c0578",
        "colab": {
          "base_uri": "https://localhost:8080/"
        }
      },
      "outputs": [
        {
          "output_type": "stream",
          "name": "stdout",
          "text": [
            "=== DATAFRAME CREATION ===\n",
            "DataFrame:\n",
            "       Name  Age  Salary Department\n",
            "0    Alice   25   50000         IT\n",
            "1      Bob   30   60000         HR\n",
            "2  Charlie   35   70000         IT\n",
            "3    David   28   55000    Finance\n"
          ]
        }
      ],
      "source": [
        "print(\"=== DATAFRAME CREATION ===\")\n",
        "# From dictionary\n",
        "data = {\n",
        "    'Name': ['Alice', 'Bob', 'Charlie', 'David'],\n",
        "    'Age': [25, 30, 35, 28],\n",
        "    'Salary': [50000, 60000, 70000, 55000],\n",
        "    'Department': ['IT', 'HR', 'IT', 'Finance']\n",
        "}\n",
        "df = pd.DataFrame(data)\n",
        "print(\"DataFrame:\\n\", df)"
      ]
    },
    {
      "cell_type": "markdown",
      "id": "c1f60d0c",
      "metadata": {
        "id": "c1f60d0c"
      },
      "source": [
        "# 2. ACCESS & INDEXING"
      ]
    },
    {
      "cell_type": "code",
      "execution_count": 25,
      "id": "2945f028",
      "metadata": {
        "id": "2945f028",
        "outputId": "250c7de9-50e6-4073-ef62-28eab960e56b",
        "colab": {
          "base_uri": "https://localhost:8080/"
        }
      },
      "outputs": [
        {
          "output_type": "stream",
          "name": "stdout",
          "text": [
            "\n",
            "=== ACCESS & INDEXING ===\n",
            "Column 'Name': ['Alice', 'Bob', 'Charlie', 'David']\n",
            "First row:\n",
            " Name          Alice\n",
            "Age              25\n",
            "Salary        50000\n",
            "Department       IT\n",
            "Name: 0, dtype: object\n",
            "Rows 1-2:\n",
            "       Name  Age  Salary Department\n",
            "1      Bob   30   60000         HR\n",
            "2  Charlie   35   70000         IT\n",
            "Filter Age > 28:\n",
            "       Name  Age  Salary Department\n",
            "1      Bob   30   60000         HR\n",
            "2  Charlie   35   70000         IT\n"
          ]
        }
      ],
      "source": [
        "print(\"\\n=== ACCESS & INDEXING ===\")\n",
        "print(\"Column 'Name':\", df['Name'].tolist())\n",
        "print(\"First row:\\n\", df.iloc[0])                    # By integer position\n",
        "print(\"Rows 1-2:\\n\", df.iloc[1:3])\n",
        "print(\"Filter Age > 28:\\n\", df[df['Age'] > 28])"
      ]
    },
    {
      "cell_type": "markdown",
      "id": "93e5c93d",
      "metadata": {
        "id": "93e5c93d"
      },
      "source": [
        "# 3. ADD/REMOVE COLUMNS"
      ]
    },
    {
      "cell_type": "code",
      "execution_count": 26,
      "id": "8694ccd8",
      "metadata": {
        "id": "8694ccd8",
        "outputId": "07ec4e08-e9c3-4643-90a4-03c7caa82c2e",
        "colab": {
          "base_uri": "https://localhost:8080/"
        }
      },
      "outputs": [
        {
          "output_type": "stream",
          "name": "stdout",
          "text": [
            "\n",
            "=== ADD/REMOVE COLUMNS ===\n",
            "After modifications:\n",
            "       Name  Age  Salary Department  Senior\n",
            "0    Alice   25   50000         IT   False\n",
            "1      Bob   30   60000         HR   False\n",
            "2  Charlie   35   70000         IT    True\n",
            "3    David   28   55000    Finance   False\n"
          ]
        }
      ],
      "source": [
        "\n",
        "print(\"\\n=== ADD/REMOVE COLUMNS ===\")\n",
        "df['Experience'] = [2, 5, 8, 3]                     # Add new column\n",
        "df['Senior'] = df['Age'] > 30                       # Conditional column\n",
        "df = df.drop('Experience', axis=1)                  # Remove column\n",
        "print(\"After modifications:\\n\", df)"
      ]
    },
    {
      "cell_type": "markdown",
      "id": "747a0989",
      "metadata": {
        "id": "747a0989"
      },
      "source": [
        "# 4. HANDLING MISSING VALUES"
      ]
    },
    {
      "cell_type": "code",
      "execution_count": 27,
      "id": "74f038a2",
      "metadata": {
        "id": "74f038a2",
        "outputId": "f02b3e00-f315-48a6-8df9-5bf3190b654a",
        "colab": {
          "base_uri": "https://localhost:8080/"
        }
      },
      "outputs": [
        {
          "output_type": "stream",
          "name": "stdout",
          "text": [
            "\n",
            "=== MISSING VALUES ===\n",
            "With missing values:\n",
            "       Name   Age   Salary\n",
            "0    Alice  25.0  50000.0\n",
            "1      Bob  30.0      NaN\n",
            "2  Charlie   NaN  70000.0\n",
            "Is null:\n",
            "     Name    Age  Salary\n",
            "0  False  False   False\n",
            "1  False  False    True\n",
            "2  False   True   False\n",
            "Fill with mean:\n",
            "       Name   Age   Salary\n",
            "0    Alice  25.0  50000.0\n",
            "1      Bob  30.0  60000.0\n",
            "2  Charlie  27.5  70000.0\n"
          ]
        }
      ],
      "source": [
        "import pandas as pd\n",
        "import numpy as np\n",
        "\n",
        "print(\"\\n=== MISSING VALUES ===\")\n",
        "# pastikan 'df' ada; contoh:\n",
        "df = pd.DataFrame({\n",
        "    'Name': ['Alice', 'Bob', 'Charlie'],\n",
        "    'Age': [25, 30, 35],\n",
        "    'Salary': [50000, 60000, 70000]\n",
        "})\n",
        "\n",
        "df_with_na = df.copy()\n",
        "df_with_na.loc[1, 'Salary'] = np.nan\n",
        "df_with_na.loc[2, 'Age'] = np.nan\n",
        "\n",
        "print(\"With missing values:\\n\", df_with_na)\n",
        "print(\"Is null:\\n\", df_with_na.isnull())\n",
        "print(\"Fill with mean:\\n\", df_with_na.fillna(df_with_na.mean(numeric_only=True)))\n"
      ]
    },
    {
      "cell_type": "markdown",
      "id": "4c8169ad",
      "metadata": {
        "id": "4c8169ad"
      },
      "source": [
        "# 5. GROUPING & AGGREGATION"
      ]
    },
    {
      "cell_type": "code",
      "execution_count": 28,
      "id": "cbd1d610",
      "metadata": {
        "id": "cbd1d610"
      },
      "outputs": [],
      "source": [
        "import pandas as pd\n",
        "import numpy as np\n",
        "\n",
        "df = pd.DataFrame({\n",
        "    'Name': ['Alice', 'Bob', 'Charlie', 'Diana', 'Evan', 'Fiona'],\n",
        "    'Department': ['HR', 'IT', 'IT', 'HR', 'Finance', 'IT'],\n",
        "    'Age': [25, 30, 35, 40, 29, 31],\n",
        "    'Salary': [50000, 60000, 70000, 58000, 65000, 72000]\n",
        "})\n",
        "\n",
        "grouped = df.groupby('Department')\n",
        "\n",
        "# rata-rata numerik per departemen\n",
        "grouped_means = grouped.mean(numeric_only=True)\n",
        "\n",
        "# deskripsi statistik untuk kolom Salary per departemen\n",
        "salary_desc = grouped['Salary'].describe()\n",
        "\n",
        "# contoh agregasi custom\n",
        "agg_example = grouped.agg({'Salary': ['mean', 'median', 'count'], 'Age': 'mean'})\n"
      ]
    },
    {
      "cell_type": "markdown",
      "id": "c0a193eb",
      "metadata": {
        "id": "c0a193eb"
      },
      "source": [
        "# 6. SORTING"
      ]
    },
    {
      "cell_type": "code",
      "execution_count": 29,
      "id": "cd4eb266",
      "metadata": {
        "id": "cd4eb266",
        "outputId": "e324f8f5-082b-45e0-80b2-e1234002fb14",
        "colab": {
          "base_uri": "https://localhost:8080/"
        }
      },
      "outputs": [
        {
          "output_type": "stream",
          "name": "stdout",
          "text": [
            "\n",
            "=== SORTING ===\n",
            "Sorted by Salary:\n",
            "       Name Department  Age  Salary\n",
            "5    Fiona         IT   31   72000\n",
            "2  Charlie         IT   35   70000\n",
            "4     Evan    Finance   29   65000\n",
            "1      Bob         IT   30   60000\n",
            "3    Diana         HR   40   58000\n",
            "0    Alice         HR   25   50000\n"
          ]
        }
      ],
      "source": [
        "print(\"\\n=== SORTING ===\")\n",
        "df_sorted = df.sort_values('Salary', ascending=False)\n",
        "print(\"Sorted by Salary:\\n\", df_sorted)"
      ]
    },
    {
      "cell_type": "markdown",
      "id": "4aa190db",
      "metadata": {
        "id": "4aa190db"
      },
      "source": [
        "# 7. MERGING & JOINING"
      ]
    },
    {
      "cell_type": "code",
      "execution_count": 30,
      "id": "3c580c45",
      "metadata": {
        "id": "3c580c45",
        "outputId": "153fe128-d93e-4839-9bb3-6f30b24ed64e",
        "colab": {
          "base_uri": "https://localhost:8080/"
        }
      },
      "outputs": [
        {
          "output_type": "stream",
          "name": "stdout",
          "text": [
            "\n",
            "=== MERGING ===\n",
            "Merged DataFrame:\n",
            "       Name Department  Age  Salary   Bonus\n",
            "0    Alice         HR   25   50000  5000.0\n",
            "1      Bob         IT   30   60000  3000.0\n",
            "2  Charlie         IT   35   70000     NaN\n",
            "3    Diana         HR   40   58000     NaN\n",
            "4     Evan    Finance   29   65000     NaN\n",
            "5    Fiona         IT   31   72000     NaN\n"
          ]
        }
      ],
      "source": [
        "print(\"\\n=== MERGING ===\")\n",
        "df2 = pd.DataFrame({\n",
        "    'Name': ['Alice', 'Bob', 'Eve'],\n",
        "    'Bonus': [5000, 3000, 4000]\n",
        "})\n",
        "merged = pd.merge(df, df2, on='Name', how='left')\n",
        "print(\"Merged DataFrame:\\n\", merged)"
      ]
    },
    {
      "cell_type": "markdown",
      "id": "a5ef532c",
      "metadata": {
        "id": "a5ef532c"
      },
      "source": [
        "# 8. PIVOT TABLES"
      ]
    },
    {
      "cell_type": "code",
      "execution_count": 31,
      "id": "8f3a0ee8",
      "metadata": {
        "id": "8f3a0ee8",
        "outputId": "04701499-1369-4392-ed78-f4b3b50ae86c",
        "colab": {
          "base_uri": "https://localhost:8080/"
        }
      },
      "outputs": [
        {
          "output_type": "stream",
          "name": "stdout",
          "text": [
            "\n",
            "=== PIVOT TABLES ===\n",
            "Pivot table:\n",
            "                     mean  count\n",
            "                  Salary Salary\n",
            "Department                     \n",
            "Finance     65000.000000      1\n",
            "HR          54000.000000      2\n",
            "IT          67333.333333      3\n"
          ]
        }
      ],
      "source": [
        "print(\"\\n=== PIVOT TABLES ===\")\n",
        "pivot = df.pivot_table(values='Salary', index='Department', aggfunc=['mean', 'count'])\n",
        "print(\"Pivot table:\\n\", pivot)"
      ]
    },
    {
      "cell_type": "markdown",
      "id": "3d90015c",
      "metadata": {
        "id": "3d90015c"
      },
      "source": [
        "# 9. DATETIME OPERATIONS"
      ]
    },
    {
      "cell_type": "code",
      "execution_count": 32,
      "id": "0bffb8bc",
      "metadata": {
        "id": "0bffb8bc",
        "outputId": "54e941b5-0681-4097-9b03-15e6c15bc466",
        "colab": {
          "base_uri": "https://localhost:8080/"
        }
      },
      "outputs": [
        {
          "output_type": "stream",
          "name": "stdout",
          "text": [
            "\n",
            "=== DATETIME OPERATIONS ===\n",
            "With dates:\n",
            "       Name Department  Age  Salary  Join_Date  Year\n",
            "0    Alice         HR   25   50000 2023-01-01  2023\n",
            "1      Bob         IT   30   60000 2023-01-02  2023\n",
            "2  Charlie         IT   35   70000 2023-01-03  2023\n",
            "3    Diana         HR   40   58000 2023-01-04  2023\n",
            "4     Evan    Finance   29   65000 2023-01-05  2023\n",
            "5    Fiona         IT   31   72000 2023-01-06  2023\n"
          ]
        }
      ],
      "source": [
        "\n",
        "import pandas as pd\n",
        "import numpy as np\n",
        "\n",
        "print(\"\\n=== DATETIME OPERATIONS ===\")\n",
        "\n",
        "# Contoh DataFrame awal\n",
        "df = pd.DataFrame({\n",
        "    'Name': ['Alice', 'Bob', 'Charlie', 'Diana', 'Evan', 'Fiona'],\n",
        "    'Department': ['HR', 'IT', 'IT', 'HR', 'Finance', 'IT'],\n",
        "    'Age': [25, 30, 35, 40, 29, 31],\n",
        "    'Salary': [50000, 60000, 70000, 58000, 65000, 72000]\n",
        "})\n",
        "\n",
        "# Jumlah tanggal disesuaikan dengan jumlah baris DataFrame\n",
        "dates = pd.date_range('2023-01-01', periods=len(df))\n",
        "\n",
        "# Tambahkan kolom tanggal ke DataFrame\n",
        "df_dates = df.copy()\n",
        "df_dates['Join_Date'] = dates\n",
        "\n",
        "# Operasi datetime: ambil tahun dari kolom tanggal\n",
        "df_dates['Year'] = df_dates['Join_Date'].dt.year\n",
        "\n",
        "print(\"With dates:\\n\", df_dates)\n"
      ]
    },
    {
      "cell_type": "markdown",
      "id": "918c0958",
      "metadata": {
        "id": "918c0958"
      },
      "source": [
        "# 10. STRING OPERATIONS"
      ]
    },
    {
      "cell_type": "code",
      "execution_count": 33,
      "id": "777149d5",
      "metadata": {
        "id": "777149d5",
        "outputId": "ab00a832-c59a-4468-e9f6-ee13557580bf",
        "colab": {
          "base_uri": "https://localhost:8080/"
        }
      },
      "outputs": [
        {
          "output_type": "stream",
          "name": "stdout",
          "text": [
            "\n",
            "=== STRING OPERATIONS ===\n",
            "String operations:\n",
            "       Name Name_Upper  Name_Length\n",
            "0    Alice      ALICE            5\n",
            "1      Bob        BOB            3\n",
            "2  Charlie    CHARLIE            7\n",
            "3    Diana      DIANA            5\n",
            "4     Evan       EVAN            4\n",
            "5    Fiona      FIONA            5\n"
          ]
        }
      ],
      "source": [
        "import pandas as pd\n",
        "\n",
        "print(\"\\n=== STRING OPERATIONS ===\")\n",
        "\n",
        "# Contoh DataFrame awal\n",
        "df = pd.DataFrame({\n",
        "    'Name': ['Alice', 'Bob', 'Charlie', 'Diana', 'Evan', 'Fiona'],\n",
        "    'Department': ['HR', 'IT', 'IT', 'HR', 'Finance', 'IT'],\n",
        "    'Age': [25, 30, 35, 40, 29, 31],\n",
        "    'Salary': [50000, 60000, 70000, 58000, 65000, 72000]\n",
        "})\n",
        "\n",
        "# Pastikan kolom 'Name' bertipe string agar operasi .str bisa dilakukan\n",
        "df['Name'] = df['Name'].astype(str)\n",
        "\n",
        "# Operasi string\n",
        "df['Name_Upper'] = df['Name'].str.upper()   # ubah huruf jadi kapital semua\n",
        "df['Name_Length'] = df['Name'].str.len()    # hitung panjang nama\n",
        "\n",
        "# Tampilkan hasil\n",
        "print(\"String operations:\\n\", df[['Name', 'Name_Upper', 'Name_Length']])\n"
      ]
    },
    {
      "cell_type": "markdown",
      "id": "6bb8792f",
      "metadata": {
        "id": "6bb8792f"
      },
      "source": [
        "# 🏋️ LATIHAN 3: OPERASI PANDAS UNTUK DATA ANALYSIS\n",
        "### EXPLORATORY DATA ANALYSIS ###"
      ]
    },
    {
      "cell_type": "code",
      "execution_count": 34,
      "id": "78ac1c77",
      "metadata": {
        "id": "78ac1c77",
        "outputId": "c771025e-8377-4715-f725-f38644f985ef",
        "colab": {
          "base_uri": "https://localhost:8080/"
        }
      },
      "outputs": [
        {
          "output_type": "stream",
          "name": "stdout",
          "text": [
            "✅ Pandas operations completed successfully!\n",
            "\n",
            "=== Total Revenue per Product ===\n",
            "   product_id       revenue\n",
            "7           8  32062.915807\n",
            "8           9  30812.566464\n",
            "6           7  30786.212454\n",
            "4           5  29894.628309\n",
            "5           6  29771.241361\n",
            "\n",
            "=== Top 5 Customers by Spending ===\n",
            "   customer_id      revenue\n",
            "0           38  5239.536260\n",
            "1           59  5185.221233\n",
            "2           89  4759.149270\n",
            "3           94  4690.528278\n",
            "4           15  4657.289888\n",
            "\n",
            "=== Daily Revenue (first 5 days) ===\n",
            "        date      revenue\n",
            "0 2023-01-01  5268.121555\n",
            "1 2023-01-02  4656.102661\n",
            "2 2023-01-03  3226.578585\n",
            "3 2023-01-04  2462.071219\n",
            "4 2023-01-05  3741.645829\n",
            "\n",
            "=== Detected Quantity Anomalies (if any) ===\n",
            "Empty DataFrame\n",
            "Columns: [date, product_id, quantity, price, customer_id, revenue]\n",
            "Index: []\n"
          ]
        }
      ],
      "source": [
        "import numpy as np\n",
        "import pandas as pd\n",
        "\n",
        "# ==============================\n",
        "# 🛍️ Analisis Dataset Retail\n",
        "# ==============================\n",
        "\n",
        "# 1. Buat dataset contoh\n",
        "np.random.seed(42)\n",
        "dates = pd.date_range('2023-01-01', '2023-03-31', freq='D')\n",
        "\n",
        "# Dataset retail acak\n",
        "retail_data = pd.DataFrame({\n",
        "    'date': np.random.choice(dates, 1000),\n",
        "    'product_id': np.random.randint(1, 11, 1000),   # 10 jenis produk\n",
        "    'quantity': np.random.randint(1, 10, 1000),     # kuantitas antara 1–9\n",
        "    'price': np.random.uniform(10, 100, 1000),      # harga antara 10–100\n",
        "    'customer_id': np.random.randint(1, 101, 1000)  # 100 pelanggan\n",
        "})\n",
        "\n",
        "# Tambahkan kolom revenue\n",
        "retail_data['revenue'] = retail_data['quantity'] * retail_data['price']\n",
        "\n",
        "# ==============================\n",
        "# 2. Total revenue per product\n",
        "# ==============================\n",
        "revenue_per_product = (\n",
        "    retail_data.groupby('product_id')['revenue']\n",
        "    .sum()\n",
        "    .reset_index()\n",
        "    .sort_values(by='revenue', ascending=False)\n",
        ")\n",
        "\n",
        "# ==============================\n",
        "# 3. Top 5 customers by spending\n",
        "# ==============================\n",
        "top_customers = (\n",
        "    retail_data.groupby('customer_id')['revenue']\n",
        "    .sum()\n",
        "    .sort_values(ascending=False)\n",
        "    .head(5)\n",
        "    .reset_index()\n",
        ")\n",
        "\n",
        "# ==============================\n",
        "# 4. Analisis time series - revenue per hari\n",
        "# ==============================\n",
        "daily_revenue = (\n",
        "    retail_data.groupby('date')['revenue']\n",
        "    .sum()\n",
        "    .reset_index()\n",
        "    .sort_values(by='date')\n",
        ")\n",
        "\n",
        "# ==============================\n",
        "# 5. Fungsi untuk mendeteksi anomali pada quantity\n",
        "# ==============================\n",
        "def detect_quantity_anomalies(df, threshold=2):\n",
        "    q_mean = df['quantity'].mean()\n",
        "    q_std = df['quantity'].std()\n",
        "    z_scores = (df['quantity'] - q_mean) / q_std\n",
        "    anomalies = df[np.abs(z_scores) > threshold]\n",
        "    return anomalies\n",
        "\n",
        "anomalies = detect_quantity_anomalies(retail_data)\n",
        "\n",
        "# ==============================\n",
        "# 6. Validasi & Output\n",
        "# ==============================\n",
        "assert len(revenue_per_product) <= 10, \"Harus maksimal 10 produk\"\n",
        "assert len(top_customers) == 5, \"Harus ada 5 pelanggan teratas\"\n",
        "\n",
        "print(\"✅ Pandas operations completed successfully!\\n\")\n",
        "\n",
        "print(\"=== Total Revenue per Product ===\")\n",
        "print(revenue_per_product.head())\n",
        "\n",
        "print(\"\\n=== Top 5 Customers by Spending ===\")\n",
        "print(top_customers)\n",
        "\n",
        "print(\"\\n=== Daily Revenue (first 5 days) ===\")\n",
        "print(daily_revenue.head())\n",
        "\n",
        "print(\"\\n=== Detected Quantity Anomalies (if any) ===\")\n",
        "print(anomalies.head())\n"
      ]
    }
  ],
  "metadata": {
    "kernelspec": {
      "display_name": ".venv",
      "language": "python",
      "name": "python3"
    },
    "language_info": {
      "codemirror_mode": {
        "name": "ipython",
        "version": 3
      },
      "file_extension": ".py",
      "mimetype": "text/x-python",
      "name": "python",
      "nbconvert_exporter": "python",
      "pygments_lexer": "ipython3",
      "version": "3.11.9"
    },
    "colab": {
      "provenance": []
    }
  },
  "nbformat": 4,
  "nbformat_minor": 5
}